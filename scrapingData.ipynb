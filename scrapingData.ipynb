{
 "cells": [
  {
   "cell_type": "code",
   "execution_count": 1,
   "metadata": {},
   "outputs": [],
   "source": [
    "#all modules importation\n",
    "import urllib.request\n",
    "from bs4 import BeautifulSoup\n",
    "from selenium import webdriver\n",
    "import time\n",
    "import pandas as pd\n",
    "import csv\n",
    "import re\n",
    "import time\n",
    "from selenium.common.exceptions import NoSuchElementException\n",
    "from IPython.core.interactiveshell import InteractiveShell\n",
    "InteractiveShell.ast_node_interactivity = \"all\""
   ]
  },
  {
   "cell_type": "code",
   "execution_count": 2,
   "metadata": {},
   "outputs": [
    {
     "name": "stdout",
     "output_type": "stream",
     "text": [
      "https://transparency.entsoe.eu/generation/r2/actualGenerationPerGenerationUnit/show\n"
     ]
    }
   ],
   "source": [
    "# specify the url\n",
    "urlpage = 'https://transparency.entsoe.eu/generation/r2/actualGenerationPerGenerationUnit/show'\n",
    "print(urlpage)"
   ]
  },
  {
   "cell_type": "code",
   "execution_count": 3,
   "metadata": {},
   "outputs": [],
   "source": [
    "# run firefox webdriver from executable path \n",
    "driver = webdriver.Firefox(executable_path = 'geckodriver.exe')\n",
    "\n",
    "#wait to mozila Firefox to open \n",
    "#please do not click on any button in that page !"
   ]
  },
  {
   "cell_type": "code",
   "execution_count": 4,
   "metadata": {},
   "outputs": [],
   "source": [
    "# get web page\n",
    "driver.get(urlpage)"
   ]
  },
  {
   "cell_type": "code",
   "execution_count": 5,
   "metadata": {},
   "outputs": [],
   "source": [
    "# check \"I Agree\" button\n",
    "def Check_agree(driver):\n",
    "    try:\n",
    "        submit_button = driver.find_elements_by_xpath('//*[@id=\"close-button\"]')[0]\n",
    "        err =0\n",
    "        submit_button.click()\n",
    "    except:\n",
    "        err =1"
   ]
  },
  {
   "cell_type": "code",
   "execution_count": 6,
   "metadata": {},
   "outputs": [],
   "source": [
    "Check_agree(driver)"
   ]
  },
  {
   "cell_type": "code",
   "execution_count": 7,
   "metadata": {},
   "outputs": [],
   "source": [
    "#for some region such as some region in Germany no data is available so we should handle this problem\n",
    "#for now we will deal with countries that display one region such as France (FR)\n",
    "def NoData():\n",
    "    if (\"No data found for criteria selected\" == driver.find_elements_by_xpath(\"/html/body/div[2]/section/form/div[3]/div[2]/div[3]/div/div/table/tbody/tr/td\")[0].text):\n",
    "        print(\"choose another region please, we don't support countries with multiple regions where some dosen't display data\")"
   ]
  },
  {
   "cell_type": "code",
   "execution_count": 8,
   "metadata": {},
   "outputs": [],
   "source": [
    "def selectChild(k):\n",
    "    regions = []\n",
    "    i = 1\n",
    "    while(1):\n",
    "        try:\n",
    "            region = driver.find_elements_by_xpath(\"/html/body/div[2]/section/form/div[3]/div[1]/div[1]/div[2]/div[\"+str(k)+\"]/div[2]/div[\"+ str(i) +\"]/label\")[0].text\n",
    "            i += 1\n",
    "            regions.append(region)\n",
    "        except:\n",
    "            break\n",
    "    return regions"
   ]
  },
  {
   "cell_type": "code",
   "execution_count": 10,
   "metadata": {},
   "outputs": [],
   "source": [
    "def checkCapital():\n",
    "    k = 0\n",
    "    while(1):\n",
    "        k += 1\n",
    "        try:\n",
    "            regionbox = driver.find_element_by_xpath('//*[@id=\"'+ str(k) +'\"]').is_selected()\n",
    "            regionname = driver.find_element_by_xpath(\"/html/body/div[2]/section/form/div[3]/div[1]/div[1]/div[2]/div[\"+ str(k) +\"]/div[1]/label\")\n",
    "            if regionbox:\n",
    "                 return(regionname.text)\n",
    "        except NoSuchElementException:\n",
    "            return None"
   ]
  },
  {
   "cell_type": "code",
   "execution_count": 12,
   "metadata": {},
   "outputs": [],
   "source": [
    "def PickCapital2(myCapital):\n",
    "    actual = checkCapital()\n",
    "    if actual == myCapital:\n",
    "        print(\"the country you want to select, \",myCapital,\", is already picked!\")\n",
    "        return\n",
    "    k = 0\n",
    "    while(1):\n",
    "        k += 1\n",
    "        try : \n",
    "            capital = driver.find_elements_by_xpath(\"/html/body/div[2]/section/form/div[3]/div[1]/div[1]/div[2]/div[\" + str(k) + \"]/div[1]/label\")[0]\n",
    "            try :\n",
    "                if(myCapital == capital.text):\n",
    "                    capital.click()\n",
    "                    regions = selectChild(k)\n",
    "                    if len(regions) == 1:\n",
    "                        print(\"this country have one region, \" + capital.text + \", so we are choosing it by default\")\n",
    "                    else:\n",
    "                        for index in range(len(regions)):\n",
    "                            print(\"( \"+ str(index + 1) +\" )\" + regions[index])\n",
    "                        choice = int(input(\"This country have more then a region,as displayed, please choose one by entering its number:\"))\n",
    "                        driver.find_elements_by_xpath(\"/html/body/div[2]/section/form/div[3]/div[1]/div[1]/div[2]/div[\"+str(k)+\"]/div[2]/div[\"+ str(choice) +\"]/div/a\")[0].click()\n",
    "                    print(\"Done\")\n",
    "                    #NoData()\n",
    "                    break\n",
    "            except:\n",
    "                print(\"somthing went wrong, please try again\")\n",
    "                break\n",
    "        except:\n",
    "            print(\"Please enter a valid  Area name !\")\n",
    "            break\n",
    "    return"
   ]
  },
  {
   "cell_type": "code",
   "execution_count": 39,
   "metadata": {},
   "outputs": [
    {
     "name": "stdout",
     "output_type": "stream",
     "text": [
      "the country you want to select,  Germany (DE) , is already picked!\n"
     ]
    }
   ],
   "source": [
    "PickCapital2('Germany (DE)')"
   ]
  },
  {
   "cell_type": "code",
   "execution_count": 162,
   "metadata": {},
   "outputs": [],
   "source": [
    "#picking the desired country \n",
    "def PickCapital(myCapital):\n",
    "    k = 0\n",
    "    while(1):\n",
    "        k += 1\n",
    "        try : \n",
    "            capital = driver.find_elements_by_xpath(\"/html/body/div[2]/section/form/div[3]/div[1]/div[1]/div[2]/div[\" + str(k) + \"]/div[1]/label\")[0]\n",
    "            try :\n",
    "                if(myCapital == capital.text):\n",
    "                    capital.click()\n",
    "                    print(\"Done\")\n",
    "                    NoData()\n",
    "                    break\n",
    "            except:\n",
    "                print(\"somthing went wrong, please try again\")\n",
    "                break\n",
    "        except:\n",
    "            print(\"Please enter a valid  Area name !\")\n",
    "            break\n",
    "    return"
   ]
  },
  {
   "cell_type": "code",
   "execution_count": 17,
   "metadata": {},
   "outputs": [],
   "source": [
    "#picking the desired Generation U\n",
    "def PickGeneration(myGene):\n",
    "    k = 0\n",
    "    while(1):\n",
    "        k += 1\n",
    "        try:\n",
    "            gene = driver.find_elements_by_xpath(\"/html/body/div[2]/section/form/div[3]/div[2]/div[3]/div/div/table/tbody/tr[\"+ str(k) +\"]/td[2]\")[0]\n",
    "            try :\n",
    "                if(myGene == gene.text):\n",
    "                    plus = driver.find_elements_by_xpath(\"/html/body/div[2]/section/form/div[3]/div[2]/div[3]/div/div/table/tbody/tr[\"+ str(k) +\"]/td[5]/a\")[0]\n",
    "                    plus.click()\n",
    "                    print(\"Done clicking plus button\")\n",
    "                    path1 = \"/html/body/div[2]/section/form/div[3]/div[2]/div[3]/div/div/table/tbody/tr[\"+ str(k) +\"]/td[5]/a\"\n",
    "                    #clickin 100 button to display all day data\n",
    "                    p = 0\n",
    "                    while(1):\n",
    "                        time.sleep(.5)\n",
    "                        #wait for the table to be rendered\n",
    "                        try:\n",
    "                            p += 1\n",
    "                            expand = driver.find_elements_by_xpath(\"/html/body/div[2]/section/form/div[3]/div[2]/div[3]/div/div/table/tbody/tr[\"+ str(k+1) +\"]/td/div/div/div[2]/div[1]/a[4]\")[0]\n",
    "                            expand.click()\n",
    "                            print(\"expand successfully\")\n",
    "                            path2 = \"/html/body/div[2]/section/form/div[3]/div[2]/div[3]/div/div/table/tbody/tr[\"+ str(k+1) +\"]/td/div/div/div[2]/div[1]/a[4]\"\n",
    "                            path3= \"/html/body/div[2]/section/form/div[3]/div[2]/div[3]/div/div[1]/table/tbody/tr[\"+ str(k+1) +\"]\"\n",
    "                            break\n",
    "                        except:\n",
    "                            print(\"bad connection, waited \" + str(p * 0.5) + \"seconds\")\n",
    "                            if (p >= 10):\n",
    "                                print(\"couldn't expand !\")\n",
    "                                break\n",
    "                    return ([path1,path2,path3])\n",
    "            except:\n",
    "                print(\"somthing went wrong, please try again\")\n",
    "                break\n",
    "        except:\n",
    "            print(\"Please enter a valid  Generation Unit name !\")\n",
    "            break"
   ]
  },
  {
   "cell_type": "code",
   "execution_count": 18,
   "metadata": {},
   "outputs": [
    {
     "name": "stdout",
     "output_type": "stream",
     "text": [
      "Done clicking plus button\n",
      "expand successfully\n"
     ]
    }
   ],
   "source": [
    "# Please enter a valid Generation Unit Name so we can continue for example :BOUCHAIN 7,ARRIGHI 2,CORDEMAIS 5....\n",
    "# each country(capital) has its own Generation Unit,thus the examples given here aren't alwayse present(they are for France)\n",
    "path = PickGeneration(\"Emsland A\")"
   ]
  },
  {
   "cell_type": "code",
   "execution_count": 19,
   "metadata": {},
   "outputs": [],
   "source": [
    "#check if an error has occured, in particular the server has shut down\n",
    "\n",
    "def isError(totalDays,days,driver):\n",
    "    try :\n",
    "        error_button = driver.find_elements_by_xpath('/html/body/div[6]/div[3]/div/button')[0]\n",
    "        error_button.click()\n",
    "        print(\"An error has occured on the \",totalDays - days ,\"day\")\n",
    "        time.sleep(7)\n",
    "    except:\n",
    "        x =1\n",
    "# verify that the page is fully loaded\n",
    "def isloaded(driver) :\n",
    "    try:\n",
    "        python_button1 = driver.find_elements_by_xpath(\"/html/body/div[2]/section/form/div[3]/div[2]/div[3]/div/div[1]/table/tbody/tr[1]\")[0]\n",
    "        notloaded = False\n",
    "    except:\n",
    "        notloaded = True\n",
    "    return(notloaded)\n",
    "# getting all the data needed\n",
    "def Get_Data(driver, days,path):\n",
    "    totalDays = days\n",
    "    output_rows = []\n",
    "    if NoData():\n",
    "        print(\"No data found for criteria selected, take a look at the website, it contains NO DATA\")\n",
    "        return\n",
    "    while(days):\n",
    "        try:\n",
    "            isError(totalDays,days,driver)\n",
    "            Check_agree(driver)\n",
    "            days-=1\n",
    "            # return to yesterday's data\n",
    "            submit_button = driver.find_elements_by_xpath('//*[@id=\"date-arrow-left-user-friendly-input-dv-date-from\"]')[0]\n",
    "            submit_button.click()\n",
    "            time.sleep(2)\n",
    "            # extract data from its node\n",
    "            while(isloaded(driver)):\n",
    "                time.sleep(0.5)\n",
    "            isError(totalDays,days,driver)\n",
    "            python_button1 = driver.find_elements_by_xpath(path[0])[0]\n",
    "            python_button1.click()\n",
    "            isError(totalDays,days,driver)\n",
    "            # print out all data of the day\n",
    "            python_button1 = driver.find_elements_by_xpath(path[1])[0]\n",
    "            python_button1.click()\n",
    "            isError(totalDays,days,driver)\n",
    "            time.sleep(0.5)\n",
    "            # get data 's date\n",
    "            html_date = driver.find_elements_by_xpath('//*[@id=\"originalinput-wrapper-dv-date-from\"]')[0].get_attribute('innerHTML')        \n",
    "            Date = BeautifulSoup(html_date, 'html.parser')\n",
    "            match = re.search(r'\\d{2}.\\d{2}.\\d{4}', str(Date))\n",
    "            Date = match.group()\n",
    "            # Get table in html\n",
    "            html_table1 =driver.find_elements_by_xpath(path[2])[0]\n",
    "            soup1 = BeautifulSoup(html_table1.get_attribute('innerHTML'), 'html.parser')\n",
    "            # make table\n",
    "            if(output_rows != None):\n",
    "                output_rows =output_rows +  makeTable(soup1,Date)\n",
    "            print(\"we checked for now \", totalDays - days , \"out of \",totalDays)\n",
    "            #the server is not as good as it should be so if we keep requesting pages it may shut down\n",
    "            time.sleep(2)\n",
    "        except:\n",
    "            try:\n",
    "                isError(totalDays,days,driver)\n",
    "            except:\n",
    "                print(\"we still haven't check \",days + 1,\" days!\")\n",
    "                return([output_rows], days + 1)\n",
    "    time.sleep(1)\n",
    "    return([output_rows],days)\n",
    "# make out a table from html ;\n",
    "def makeTable(soup,Date):\n",
    "    output_rows =[]\n",
    "    table = soup.find(\"table\")\n",
    "    for table_row in soup.findAll('tr'):\n",
    "        columns = table_row.findAll('td')\n",
    "        output_row = []\n",
    "        for column in columns:\n",
    "              output_row.append(column.text)\n",
    "        output_row.append(Date)\n",
    "        if(output_row[0] != Date):\n",
    "            output_rows.append(output_row)\n",
    "    return(output_rows)"
   ]
  },
  {
   "cell_type": "code",
   "execution_count": 20,
   "metadata": {},
   "outputs": [
    {
     "name": "stdout",
     "output_type": "stream",
     "text": [
      "we checked for now  1 out of  50\n",
      "we checked for now  2 out of  50\n",
      "we checked for now  3 out of  50\n",
      "we checked for now  4 out of  50\n",
      "we checked for now  5 out of  50\n",
      "we checked for now  6 out of  50\n",
      "we checked for now  7 out of  50\n",
      "we checked for now  8 out of  50\n",
      "we checked for now  9 out of  50\n",
      "we checked for now  10 out of  50\n",
      "we checked for now  11 out of  50\n",
      "we checked for now  12 out of  50\n",
      "we checked for now  13 out of  50\n",
      "we checked for now  14 out of  50\n",
      "we checked for now  15 out of  50\n",
      "we checked for now  16 out of  50\n",
      "we checked for now  17 out of  50\n",
      "we checked for now  18 out of  50\n",
      "we checked for now  19 out of  50\n",
      "we checked for now  20 out of  50\n",
      "we checked for now  21 out of  50\n",
      "we checked for now  22 out of  50\n",
      "we checked for now  23 out of  50\n",
      "we checked for now  24 out of  50\n",
      "we checked for now  25 out of  50\n",
      "we checked for now  26 out of  50\n",
      "we checked for now  27 out of  50\n",
      "we checked for now  28 out of  50\n",
      "we checked for now  29 out of  50\n",
      "we checked for now  30 out of  50\n",
      "we checked for now  31 out of  50\n",
      "we checked for now  32 out of  50\n",
      "we checked for now  33 out of  50\n",
      "we checked for now  34 out of  50\n",
      "we checked for now  35 out of  50\n",
      "we checked for now  36 out of  50\n",
      "we checked for now  37 out of  50\n",
      "we checked for now  38 out of  50\n",
      "we checked for now  39 out of  50\n",
      "we checked for now  40 out of  50\n",
      "we checked for now  41 out of  50\n",
      "we checked for now  42 out of  50\n",
      "we checked for now  43 out of  50\n",
      "we checked for now  46 out of  50\n",
      "we checked for now  47 out of  50\n"
     ]
    }
   ],
   "source": [
    "# please indicate the number of days you want to scrap ! for exemple 90 here\n",
    "# it will take some times this is due to the fact that the website's server is not quite good to support a lot of requests ;\n",
    "#so I, on purpose, made the script go slowly !\n",
    "(table,nbr) = Get_Data(driver, 50,path)"
   ]
  },
  {
   "cell_type": "code",
   "execution_count": 26,
   "metadata": {},
   "outputs": [
    {
     "data": {
      "text/plain": [
       "1080"
      ]
     },
     "execution_count": 26,
     "metadata": {},
     "output_type": "execute_result"
    }
   ],
   "source": [
    "len(table[0])"
   ]
  },
  {
   "cell_type": "code",
   "execution_count": 22,
   "metadata": {},
   "outputs": [
    {
     "data": {
      "text/plain": [
       "0"
      ]
     },
     "execution_count": 22,
     "metadata": {},
     "output_type": "execute_result"
    }
   ],
   "source": [
    "nbr"
   ]
  },
  {
   "cell_type": "code",
   "execution_count": 27,
   "metadata": {},
   "outputs": [],
   "source": [
    "table = pd.DataFrame(table[0], columns =['MTU', 'Generation','Consumption','Date'])"
   ]
  },
  {
   "cell_type": "code",
   "execution_count": 28,
   "metadata": {},
   "outputs": [],
   "source": [
    "table.to_csv(r'./data_table.csv')"
   ]
  },
  {
   "cell_type": "code",
   "execution_count": 29,
   "metadata": {},
   "outputs": [],
   "source": [
    "# read one of the saved files\n",
    "data_table = pd.read_csv(\"data_table.csv\") "
   ]
  },
  {
   "cell_type": "code",
   "execution_count": 35,
   "metadata": {},
   "outputs": [
    {
     "data": {
      "text/html": [
       "<div>\n",
       "<style scoped>\n",
       "    .dataframe tbody tr th:only-of-type {\n",
       "        vertical-align: middle;\n",
       "    }\n",
       "\n",
       "    .dataframe tbody tr th {\n",
       "        vertical-align: top;\n",
       "    }\n",
       "\n",
       "    .dataframe thead th {\n",
       "        text-align: right;\n",
       "    }\n",
       "</style>\n",
       "<table border=\"1\" class=\"dataframe\">\n",
       "  <thead>\n",
       "    <tr style=\"text-align: right;\">\n",
       "      <th></th>\n",
       "      <th>Unnamed: 0</th>\n",
       "      <th>MTU</th>\n",
       "      <th>Generation</th>\n",
       "      <th>Consumption</th>\n",
       "      <th>Date</th>\n",
       "    </tr>\n",
       "  </thead>\n",
       "  <tbody>\n",
       "    <tr>\n",
       "      <td>0</td>\n",
       "      <td>0</td>\n",
       "      <td>00:00 - 01:00</td>\n",
       "      <td>-</td>\n",
       "      <td>-</td>\n",
       "      <td>02.10.2019</td>\n",
       "    </tr>\n",
       "    <tr>\n",
       "      <td>1</td>\n",
       "      <td>1</td>\n",
       "      <td>01:00 - 02:00</td>\n",
       "      <td>-</td>\n",
       "      <td>-</td>\n",
       "      <td>02.10.2019</td>\n",
       "    </tr>\n",
       "    <tr>\n",
       "      <td>2</td>\n",
       "      <td>2</td>\n",
       "      <td>02:00 - 03:00</td>\n",
       "      <td>-</td>\n",
       "      <td>-</td>\n",
       "      <td>02.10.2019</td>\n",
       "    </tr>\n",
       "    <tr>\n",
       "      <td>3</td>\n",
       "      <td>3</td>\n",
       "      <td>03:00 - 04:00</td>\n",
       "      <td>-</td>\n",
       "      <td>-</td>\n",
       "      <td>02.10.2019</td>\n",
       "    </tr>\n",
       "    <tr>\n",
       "      <td>4</td>\n",
       "      <td>4</td>\n",
       "      <td>04:00 - 05:00</td>\n",
       "      <td>-</td>\n",
       "      <td>-</td>\n",
       "      <td>02.10.2019</td>\n",
       "    </tr>\n",
       "  </tbody>\n",
       "</table>\n",
       "</div>"
      ],
      "text/plain": [
       "   Unnamed: 0            MTU Generation Consumption        Date\n",
       "0           0  00:00 - 01:00          -           -  02.10.2019\n",
       "1           1  01:00 - 02:00          -           -  02.10.2019\n",
       "2           2  02:00 - 03:00          -           -  02.10.2019\n",
       "3           3  03:00 - 04:00          -           -  02.10.2019\n",
       "4           4  04:00 - 05:00          -           -  02.10.2019"
      ]
     },
     "execution_count": 35,
     "metadata": {},
     "output_type": "execute_result"
    }
   ],
   "source": [
    "# print the header of this file\n",
    "data_table.head()"
   ]
  },
  {
   "cell_type": "code",
   "execution_count": 36,
   "metadata": {},
   "outputs": [
    {
     "data": {
      "text/plain": [
       "78"
      ]
     },
     "execution_count": 36,
     "metadata": {},
     "output_type": "execute_result"
    }
   ],
   "source": [
    "#Get the unique numbers in Generation\n",
    "data_table.Generation.nunique()"
   ]
  },
  {
   "cell_type": "code",
   "execution_count": null,
   "metadata": {},
   "outputs": [],
   "source": []
  }
 ],
 "metadata": {
  "kernelspec": {
   "display_name": "Python 3",
   "language": "python",
   "name": "python3"
  },
  "language_info": {
   "codemirror_mode": {
    "name": "ipython",
    "version": 3
   },
   "file_extension": ".py",
   "mimetype": "text/x-python",
   "name": "python",
   "nbconvert_exporter": "python",
   "pygments_lexer": "ipython3",
   "version": "3.6.3"
  }
 },
 "nbformat": 4,
 "nbformat_minor": 4
}
